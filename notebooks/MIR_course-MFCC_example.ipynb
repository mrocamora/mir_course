{
 "cells": [
  {
   "cell_type": "markdown",
   "metadata": {},
   "source": [
    "# <center>MUSIC INFORMATION RETRIEVAL</center>\n",
    "## <center>Mel-frequency cepstral coefficients (MFCCs)</center>      "
   ]
  },
  {
   "cell_type": "code",
   "execution_count": null,
   "metadata": {},
   "outputs": [],
   "source": [
    "%matplotlib inline\n",
    "\n",
    "import numpy as np\n",
    "import matplotlib.pyplot as plt\n",
    "\n",
    "import librosa\n",
    "import librosa.display\n",
    "\n",
    "import IPython.display as ipd\n",
    "\n",
    "librosa.__version__"
   ]
  },
  {
   "cell_type": "markdown",
   "metadata": {},
   "source": [
    "**NOTE:** *The following cell is needed to download example audio files.*"
   ]
  },
  {
   "cell_type": "code",
   "execution_count": null,
   "metadata": {},
   "outputs": [],
   "source": [
    "!pip install wget"
   ]
  },
  {
   "cell_type": "code",
   "execution_count": null,
   "metadata": {},
   "outputs": [],
   "source": [
    "import wget"
   ]
  },
  {
   "cell_type": "markdown",
   "metadata": {},
   "source": [
    "### About this notebook"
   ]
  },
  {
   "cell_type": "markdown",
   "metadata": {},
   "source": [
    "We will explore the process to compute Mel-frequency Cepstral Coefficients (MFCCs). We will also check that these features are somehow extracting the shape of the spectrum by listening to an audio signal reconstructed from the MFCCs and compare it to the original one."
   ]
  },
  {
   "cell_type": "markdown",
   "metadata": {},
   "source": [
    "### How to run the notebook\n",
    "You can download the notebook and run it locally in your computer.\n",
    "\n",
    "You can also run it in Google Colab by using the following link.\n",
    "\n",
    "<table align=\"center\">\n",
    "  <td>\n",
    "    <a target=\"_blank\" href=\"https://colab.research.google.com/github/mrocamora/mir_course/blob/main/notebooks/MIR_course-MFCC_example.ipynb\"><img src=\"https://www.tensorflow.org/images/colab_logo_32px.png\" />Run in Google Colab</a>\n",
    "  </td>\n",
    "</table>"
   ]
  },
  {
   "cell_type": "markdown",
   "metadata": {},
   "source": [
    "### Part 1 - computing MFCCs\n",
    "The following steps are needed to compute the MFCCs.\n",
    "\n",
    "1. Compute a power spectrogam\n",
    "2. Apply a Mel-filterbank to get a Mel-spectrogram\n",
    "3. Apply log to convert power to dB\n",
    "4. Compute the Discrete Cosine Transform (DCT)\n",
    "\n",
    "The code also computes and plots the Mel filter bank."
   ]
  },
  {
   "cell_type": "code",
   "execution_count": null,
   "metadata": {},
   "outputs": [],
   "source": [
    "# download audio file\n",
    "wget.download('https://github.com/mrocamora/mir_course/blob/main/audio/superstition.wav?raw=true')"
   ]
  },
  {
   "cell_type": "code",
   "execution_count": null,
   "metadata": {},
   "outputs": [],
   "source": [
    "# read the audio file\n",
    "filename = 'superstition.wav'\n",
    "\n",
    "y, sr = librosa.load(filename)"
   ]
  },
  {
   "cell_type": "code",
   "execution_count": null,
   "metadata": {},
   "outputs": [],
   "source": [
    "# plot audio signal\n",
    "plt.figure(figsize=(12,8))\n",
    "ax1 = plt.subplot(2, 1, 1)\n",
    "librosa.display.waveshow(y, sr=sr)\n",
    "plt.title('audio waveform')\n",
    "plt.tight_layout()"
   ]
  },
  {
   "cell_type": "code",
   "execution_count": null,
   "metadata": {},
   "outputs": [],
   "source": [
    "ipd.Audio(y, rate=sr)"
   ]
  },
  {
   "cell_type": "code",
   "execution_count": null,
   "metadata": {},
   "outputs": [],
   "source": [
    "# 1. Compute spectrogam from STFT\n",
    "n_fft = 2048\n",
    "Y = librosa.stft(y, win_length=1024, hop_length=512, n_fft=n_fft, window='hann')\n",
    "S = np.abs(Y)**2\n",
    "\n",
    "# 2. apply mel-filterbank to combine FFT bins into Mel-frequency bins\n",
    "# number of mel-frequency bands\n",
    "n_mels = 128\n",
    "# maximum frequency for the analysis\n",
    "fmax = 4000 \n",
    "# compute mel-spectrogram\n",
    "M = librosa.feature.melspectrogram(S=S, n_mels=n_mels, fmax=fmax)\n",
    "\n",
    "# 3. apply log to convert power to dB\n",
    "M_log = librosa.power_to_db(M)\n",
    "\n",
    "# 4. apply DCT and return first n_mfcc coefficients\n",
    "# number of MFCC coefficients \n",
    "n_mfcc = 20\n",
    "# compute MFCCs from mel-spectrogram\n",
    "mfccs = librosa.feature.mfcc(S=M_log, n_mfcc=n_mfcc)\n",
    "\n",
    "# NOTE: the following function is a wrapper for all of the above\n",
    "# mfccs = librosa.feature.mfcc(y=y, n_mfcc=n_mfcc)"
   ]
  },
  {
   "cell_type": "code",
   "execution_count": null,
   "metadata": {},
   "outputs": [],
   "source": [
    "# compute and plot the Mel filter bank\n",
    "melfb = librosa.filters.mel(sr=sr, n_fft=n_fft, fmax=fmax, n_mels=n_mels)\n",
    "freqs = librosa.fft_frequencies(n_fft=n_fft)\n",
    "\n",
    "plt.figure(figsize=(12, 6))\n",
    "plt.subplot(1, 2, 1)\n",
    "librosa.display.specshow(melfb, x_axis='linear')\n",
    "plt.xlim([0, fmax])\n",
    "plt.ylabel('Mel filter')\n",
    "plt.title('Mel filter bank')\n",
    "plt.subplot(1, 2, 2)\n",
    "plt.plot(freqs, melfb.T)\n",
    "plt.title('Mel filter bank')\n",
    "plt.xlabel('Frequency [Hz]')\n",
    "plt.xlim([0, fmax])\n",
    "plt.tight_layout()"
   ]
  },
  {
   "cell_type": "code",
   "execution_count": null,
   "metadata": {},
   "outputs": [],
   "source": [
    "# plot mel-spectrogram and MFCCs\n",
    "ind_max = np.argmax(freqs > fmax)\n",
    "plt.figure(figsize=(12, 8))\n",
    "plt.subplot(2, 1, 1)\n",
    "librosa.display.specshow(librosa.power_to_db(S[:ind_max, :]), y_coords=freqs[:ind_max],\n",
    "                         y_axis='linear')#, x_axis='time')\n",
    "plt.title('spectrogram')\n",
    "plt.subplot(2, 1, 2)\n",
    "librosa.display.specshow(M_log, x_axis='time', y_axis='mel', sr=sr, fmax=fmax)\n",
    "plt.title('mel-spectrogram')\n",
    "plt.tight_layout()"
   ]
  },
  {
   "cell_type": "code",
   "execution_count": null,
   "metadata": {},
   "outputs": [],
   "source": [
    "# plot MFCCs\n",
    "ind = [4, 14]\n",
    "\n",
    "plt.figure(figsize=(12, 8))\n",
    "plt.subplot(2, 1, 1)\n",
    "librosa.display.specshow(mfccs, x_axis='time')\n",
    "plt.title('MFCC (cofficients ' + str(0) + ' to ' + str(n_mfcc) + ')')\n",
    "plt.tight_layout()\n",
    "\n",
    "plt.subplot(2, 1, 2)\n",
    "librosa.display.specshow(mfccs[ind[0]:ind[1], :], x_axis='time')\n",
    "plt.title('MFCC (cofficients ' + str(ind[0]) + ' to ' + str(ind[1]) + ')')\n",
    "plt.tight_layout()"
   ]
  },
  {
   "cell_type": "markdown",
   "metadata": {},
   "source": [
    "### Parte 2 - audio signal reconstruction from the MFCCs\n",
    "\n",
    "Finally, the process is inverted in order to reconstruct an audio signal from the MFCCs.\n",
    "\n",
    "To do that, we follow these steps. \n",
    "\n",
    "1. First, we get the Mel-spectrogram by applying the inverse DCT and inverting the logarithm. \n",
    "2. Then, we change the frequency mapping from Mel to linear, in order to get the traditional spectrogram. \n",
    "3. Finally, an audio signal is obtained from the spectrogram, using a fast implementaton of the Griffin-Lim algorithm [1][2].\n",
    "\n",
    "The audio signal we obtain indicates the MFCCs capture an estimation of the spectral envelope from the original audio signal.\n",
    "\n",
    "[1] D. W. Griffin and J. S. Lim, “Signal estimation from modified short-time Fourier transform,” IEEE Trans. ASSP, vol.32, no.2, pp.236–243, Apr. 1984.\n",
    "\n",
    "[2] Perraudin, N., Balazs, P., & Søndergaard, P. L. “A fast Griffin-Lim algorithm,” IEEE Workshop on Applications of Signal Processing to Audio and Acoustics (pp. 1-4), Oct. 2013."
   ]
  },
  {
   "cell_type": "code",
   "execution_count": null,
   "metadata": {},
   "outputs": [],
   "source": [
    "# 1. Invert Mel-frequency cepstral coefficients to approximate a Mel power spectrogram.\n",
    "# Inverse DCT is applied to the MFCCs followed by dB to power spectrum mapping. \n",
    "W = librosa.feature.inverse.mfcc_to_mel(mfccs, n_mels=n_mels)\n",
    "\n",
    "# 2. Approximate STFT magnitude from a Mel power spectrogram.\n",
    "X = librosa.feature.inverse.mel_to_stft(W)\n",
    "\n",
    "# 3. Approximate magnitude spectrogram inversion using the “fast” Griffin-Lim algorithm. \n",
    "x = librosa.griffinlim(X)"
   ]
  },
  {
   "cell_type": "code",
   "execution_count": null,
   "metadata": {},
   "outputs": [],
   "source": [
    "# plot audio signal\n",
    "plt.figure(figsize=(12,8))\n",
    "ax1 = plt.subplot(2, 1, 1)\n",
    "librosa.display.waveshow(x, sr=sr)\n",
    "plt.title('audio waveform')\n",
    "ax2 = plt.subplot(2, 1, 2)\n",
    "librosa.display.specshow(librosa.power_to_db(X[:ind_max, :]**2), y_coords=freqs[:ind_max],\n",
    "                         y_axis='linear', x_axis='time')\n",
    "plt.title('spectrogram')\n",
    "plt.tight_layout()"
   ]
  },
  {
   "cell_type": "code",
   "execution_count": null,
   "metadata": {
    "scrolled": true
   },
   "outputs": [],
   "source": [
    "ipd.Audio(x, rate=sr)"
   ]
  },
  {
   "cell_type": "code",
   "execution_count": null,
   "metadata": {},
   "outputs": [],
   "source": []
  }
 ],
 "metadata": {
  "kernelspec": {
   "display_name": "Python 3",
   "language": "python",
   "name": "python3"
  },
  "language_info": {
   "codemirror_mode": {
    "name": "ipython",
    "version": 3
   },
   "file_extension": ".py",
   "mimetype": "text/x-python",
   "name": "python",
   "nbconvert_exporter": "python",
   "pygments_lexer": "ipython3",
   "version": "3.8.10"
  }
 },
 "nbformat": 4,
 "nbformat_minor": 2
}
