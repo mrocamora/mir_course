{
 "cells": [
  {
   "cell_type": "markdown",
   "metadata": {},
   "source": [
    "#  <center> MUSIC INFORMATION RETRIEVAL</center>\n",
    "## <center> Mel-filterbank</center>      "
   ]
  },
  {
   "cell_type": "code",
   "execution_count": null,
   "metadata": {},
   "outputs": [],
   "source": [
    "%matplotlib inline\n",
    "\n",
    "import numpy as np\n",
    "import matplotlib.pyplot as plt\n",
    "\n",
    "from scipy.io import wavfile\n",
    "\n",
    "import IPython.display as ipd"
   ]
  },
  {
   "cell_type": "markdown",
   "metadata": {},
   "source": [
    "**NOTE:** *The following cell is needed to download example audio files.*"
   ]
  },
  {
   "cell_type": "code",
   "execution_count": null,
   "metadata": {},
   "outputs": [],
   "source": [
    "!pip install wget"
   ]
  },
  {
   "cell_type": "code",
   "execution_count": null,
   "metadata": {},
   "outputs": [],
   "source": [
    "import wget"
   ]
  },
  {
   "cell_type": "markdown",
   "metadata": {},
   "source": [
    "**NOTE:** *To install [librosa](https://librosa.org/).*"
   ]
  },
  {
   "cell_type": "code",
   "execution_count": null,
   "metadata": {},
   "outputs": [],
   "source": [
    "!pip install librosa"
   ]
  },
  {
   "cell_type": "code",
   "execution_count": null,
   "metadata": {},
   "outputs": [],
   "source": [
    "import librosa\n",
    "import librosa.display"
   ]
  },
  {
   "cell_type": "code",
   "execution_count": null,
   "metadata": {},
   "outputs": [],
   "source": [
    "librosa.__version__"
   ]
  },
  {
   "cell_type": "markdown",
   "metadata": {},
   "source": [
    "### About this notebook"
   ]
  },
  {
   "cell_type": "markdown",
   "metadata": {},
   "source": [
    "We will study filterbanks used to simulate the **frequency selectivity of the auditory system**, in particular its **non-linear distribution** and its **variable bandwidth**. This type of filter bank is frequently used as a first stage in audio processing tasks and allows the construction of an adequate representation of the audio signal.\n",
    "\n",
    "The proposed task consists of studying the **mel-scale filter bank** implemented in the library [librosa](https://librosa.org/), analyzing its parameters and its function in the design. Then the filterbank is applied to an audio signal and the effect of the value of the parameters on the spectral representation obtained is analyzed."
   ]
  },
  {
   "cell_type": "markdown",
   "metadata": {},
   "source": [
    "### How to run the notebook\n",
    "You can download the notebook and run it locally in your computer.\n",
    "\n",
    "You can also run it in Google Colab by using the following link.\n",
    "\n",
    "<table align=\"center\">\n",
    "  <td>\n",
    "    <a target=\"_blank\" href=\"https://colab.research.google.com/github/mrocamora/mir_course/blob/main/notebooks/MIR_course-mel_filterbank_example.ipynb\"><img src=\"https://www.tensorflow.org/images/colab_logo_32px.png\" />Run in Google Colab</a>\n",
    "  </td>\n",
    "</table>"
   ]
  },
  {
   "cell_type": "markdown",
   "metadata": {},
   "source": [
    "### Get an audio file"
   ]
  },
  {
   "cell_type": "code",
   "execution_count": null,
   "metadata": {},
   "outputs": [],
   "source": [
    "# download audio file to use\n",
    "wget.download('https://github.com/mrocamora/mir_course/blob/main/audio/superstition.wav?raw=true')"
   ]
  },
  {
   "cell_type": "code",
   "execution_count": null,
   "metadata": {},
   "outputs": [],
   "source": [
    "# read the audio file\n",
    "filename = 'superstition.wav'\n",
    "y, sr = librosa.load(filename)\n",
    "\n",
    "# play audio\n",
    "ipd.Audio(y, rate=sr)"
   ]
  },
  {
   "cell_type": "code",
   "execution_count": null,
   "metadata": {},
   "outputs": [],
   "source": [
    "# plot audio signal\n",
    "plt.figure(figsize=(12,8))\n",
    "ax1 = plt.subplot(2, 1, 1)\n",
    "librosa.display.waveshow(y, sr=sr)\n",
    "plt.title('audio waveform')\n",
    "plt.tight_layout()"
   ]
  },
  {
   "cell_type": "markdown",
   "metadata": {},
   "source": [
    "### Part 1. Mel-filterbank"
   ]
  },
  {
   "cell_type": "markdown",
   "metadata": {},
   "source": [
    "In what follows, a mel scale filter bank is designed using [librosa](https://librosa.org/). Study the parameters that the function receives for the design of the filter bank, analyze the result obtained and answer the following questions. It may be helpful to change the number of filters in the bank.\n",
    "\n",
    "   1. What is the center frequency distribution of the bank filters?\n",
    "   2. What shape does the frequency response of each filter have?\n",
    "   3. How does the bandwidth of the filters vary as the frequency increases?\n",
    "   4. In what frequency regions does the filter bank have more frequency resolution?\n",
    "   5. How does the gain of filters vary with frequency? What type of normalization does it correspond to?"
   ]
  },
  {
   "cell_type": "markdown",
   "metadata": {},
   "source": [
    "The following code defines the parameters of the filterbank."
   ]
  },
  {
   "cell_type": "code",
   "execution_count": null,
   "metadata": {},
   "outputs": [],
   "source": [
    "# number of DFT points\n",
    "n_fft = 2048\n",
    "\n",
    "# number of mel-frequency bands\n",
    "n_mels = 128\n",
    "\n",
    "# maximum frequency for the analysis\n",
    "fmax = 4000 "
   ]
  },
  {
   "cell_type": "markdown",
   "metadata": {},
   "source": [
    "Next, the filter bank is constructed and its central frequency and the magnitude of the frequency response of each filter are graphically represented."
   ]
  },
  {
   "cell_type": "code",
   "execution_count": null,
   "metadata": {},
   "outputs": [],
   "source": [
    "# compute and plot the Mel filter bank\n",
    "melfb = librosa.filters.mel(sr=sr, n_fft=n_fft, fmax=fmax, n_mels=n_mels)\n",
    "freqs = librosa.fft_frequencies(n_fft=n_fft)\n",
    "\n",
    "plt.figure(figsize=(12, 6))\n",
    "plt.subplot(1, 2, 1)\n",
    "librosa.display.specshow(melfb, x_axis='linear')\n",
    "plt.xlim([0, fmax])\n",
    "plt.ylabel('Mel filter')\n",
    "plt.title('Mel filter bank')\n",
    "plt.subplot(1, 2, 2)\n",
    "plt.plot(freqs, melfb.T)\n",
    "plt.title('Mel filter bank')\n",
    "plt.xlabel('Frequency [Hz]')\n",
    "plt.xlim([0, fmax])\n",
    "plt.tight_layout()"
   ]
  },
  {
   "cell_type": "markdown",
   "metadata": {},
   "source": [
    "### Part 2. Mel-spectrogram\n",
    "In the next cell, a bank of mel filters with the same characteristics is applied to the spectrogram of the audio signal, to produce a mel spectrogram. Change the filter bank parameters and compare the original spectrogram and the mel spectrogram.\n",
    "\n",
    "In particular consider the following.\n",
    "\n",
    "   1. What is the frequency resolution of the original spectrogram?\n",
    "   2. In what frequency range does the mel spectrogram have the most resolution?"
   ]
  },
  {
   "cell_type": "code",
   "execution_count": null,
   "metadata": {},
   "outputs": [],
   "source": [
    "# 1. Compute spectrogam from STFT\n",
    "Y = librosa.stft(y, win_length=1024, hop_length=512, n_fft=n_fft, window='hann')\n",
    "S = np.abs(Y)**2\n",
    "\n",
    "# 2. apply mel-filterbank to combine FFT bins into Mel-frequency bins\n",
    "# compute mel-spectrogram\n",
    "M = librosa.feature.melspectrogram(S=S, n_mels=n_mels, fmax=fmax)\n",
    "\n",
    "# 3. apply log to convert power to dB\n",
    "M_log = librosa.power_to_db(M)"
   ]
  },
  {
   "cell_type": "code",
   "execution_count": null,
   "metadata": {},
   "outputs": [],
   "source": [
    "# plot spectrogram and mel-spectrogram\n",
    "ind_max = np.argmax(freqs > fmax)\n",
    "plt.figure(figsize=(12, 8))\n",
    "plt.subplot(2, 1, 1)\n",
    "#librosa.display.specshow(librosa.power_to_db(S[:ind_max, :]), y_coords=freqs[:ind_max], y_axis='linear')\n",
    "librosa.display.specshow(librosa.power_to_db(S), y_coords=freqs, y_axis='linear')\n",
    "ax=plt.gca()\n",
    "ax.set_ylim([0, fmax])\n",
    "plt.title('spectrogram')\n",
    "plt.subplot(2, 1, 2)\n",
    "librosa.display.specshow(M_log, x_axis='time', y_axis='mel', sr=sr, fmax=fmax)\n",
    "plt.title('mel-spectrogram')\n",
    "plt.tight_layout()"
   ]
  }
 ],
 "metadata": {
  "kernelspec": {
   "display_name": "Python 3",
   "language": "python",
   "name": "python3"
  },
  "language_info": {
   "codemirror_mode": {
    "name": "ipython",
    "version": 3
   },
   "file_extension": ".py",
   "mimetype": "text/x-python",
   "name": "python",
   "nbconvert_exporter": "python",
   "pygments_lexer": "ipython3",
   "version": "3.8.10"
  }
 },
 "nbformat": 4,
 "nbformat_minor": 2
}
